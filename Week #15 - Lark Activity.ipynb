{
 "cells": [
  {
   "cell_type": "code",
   "execution_count": 1,
   "id": "02d3b051",
   "metadata": {},
   "outputs": [],
   "source": [
    "# importing necessary libraries\n",
    "\n",
    "import numpy as np\n",
    "import pandas as pd\n",
    "import matplotlib.pyplot as plt\n",
    "%matplotlib inline\n",
    "import seaborn as sns"
   ]
  },
  {
   "cell_type": "code",
   "execution_count": 2,
   "id": "c7e4b729",
   "metadata": {},
   "outputs": [
    {
     "data": {
      "text/html": [
       "<div>\n",
       "<style scoped>\n",
       "    .dataframe tbody tr th:only-of-type {\n",
       "        vertical-align: middle;\n",
       "    }\n",
       "\n",
       "    .dataframe tbody tr th {\n",
       "        vertical-align: top;\n",
       "    }\n",
       "\n",
       "    .dataframe thead th {\n",
       "        text-align: right;\n",
       "    }\n",
       "</style>\n",
       "<table border=\"1\" class=\"dataframe\">\n",
       "  <thead>\n",
       "    <tr style=\"text-align: right;\">\n",
       "      <th></th>\n",
       "      <th>PassengerId</th>\n",
       "      <th>Survived</th>\n",
       "      <th>Pclass</th>\n",
       "      <th>Name</th>\n",
       "      <th>Sex</th>\n",
       "      <th>Age</th>\n",
       "      <th>SibSp</th>\n",
       "      <th>Parch</th>\n",
       "      <th>Ticket</th>\n",
       "      <th>Fare</th>\n",
       "      <th>Cabin</th>\n",
       "      <th>Embarked</th>\n",
       "    </tr>\n",
       "  </thead>\n",
       "  <tbody>\n",
       "    <tr>\n",
       "      <th>0</th>\n",
       "      <td>1</td>\n",
       "      <td>0</td>\n",
       "      <td>3</td>\n",
       "      <td>Braund, Mr. Owen Harris</td>\n",
       "      <td>male</td>\n",
       "      <td>22.0</td>\n",
       "      <td>1</td>\n",
       "      <td>0</td>\n",
       "      <td>A/5 21171</td>\n",
       "      <td>7.2500</td>\n",
       "      <td>NaN</td>\n",
       "      <td>S</td>\n",
       "    </tr>\n",
       "    <tr>\n",
       "      <th>1</th>\n",
       "      <td>2</td>\n",
       "      <td>1</td>\n",
       "      <td>1</td>\n",
       "      <td>Cumings, Mrs. John Bradley (Florence Briggs Th...</td>\n",
       "      <td>female</td>\n",
       "      <td>38.0</td>\n",
       "      <td>1</td>\n",
       "      <td>0</td>\n",
       "      <td>PC 17599</td>\n",
       "      <td>71.2833</td>\n",
       "      <td>C85</td>\n",
       "      <td>C</td>\n",
       "    </tr>\n",
       "    <tr>\n",
       "      <th>2</th>\n",
       "      <td>3</td>\n",
       "      <td>1</td>\n",
       "      <td>3</td>\n",
       "      <td>Heikkinen, Miss. Laina</td>\n",
       "      <td>female</td>\n",
       "      <td>26.0</td>\n",
       "      <td>0</td>\n",
       "      <td>0</td>\n",
       "      <td>STON/O2. 3101282</td>\n",
       "      <td>7.9250</td>\n",
       "      <td>NaN</td>\n",
       "      <td>S</td>\n",
       "    </tr>\n",
       "    <tr>\n",
       "      <th>3</th>\n",
       "      <td>4</td>\n",
       "      <td>1</td>\n",
       "      <td>1</td>\n",
       "      <td>Futrelle, Mrs. Jacques Heath (Lily May Peel)</td>\n",
       "      <td>female</td>\n",
       "      <td>35.0</td>\n",
       "      <td>1</td>\n",
       "      <td>0</td>\n",
       "      <td>113803</td>\n",
       "      <td>53.1000</td>\n",
       "      <td>C123</td>\n",
       "      <td>S</td>\n",
       "    </tr>\n",
       "    <tr>\n",
       "      <th>4</th>\n",
       "      <td>5</td>\n",
       "      <td>0</td>\n",
       "      <td>3</td>\n",
       "      <td>Allen, Mr. William Henry</td>\n",
       "      <td>male</td>\n",
       "      <td>35.0</td>\n",
       "      <td>0</td>\n",
       "      <td>0</td>\n",
       "      <td>373450</td>\n",
       "      <td>8.0500</td>\n",
       "      <td>NaN</td>\n",
       "      <td>S</td>\n",
       "    </tr>\n",
       "  </tbody>\n",
       "</table>\n",
       "</div>"
      ],
      "text/plain": [
       "   PassengerId  Survived  Pclass  \\\n",
       "0            1         0       3   \n",
       "1            2         1       1   \n",
       "2            3         1       3   \n",
       "3            4         1       1   \n",
       "4            5         0       3   \n",
       "\n",
       "                                                Name     Sex   Age  SibSp  \\\n",
       "0                            Braund, Mr. Owen Harris    male  22.0      1   \n",
       "1  Cumings, Mrs. John Bradley (Florence Briggs Th...  female  38.0      1   \n",
       "2                             Heikkinen, Miss. Laina  female  26.0      0   \n",
       "3       Futrelle, Mrs. Jacques Heath (Lily May Peel)  female  35.0      1   \n",
       "4                           Allen, Mr. William Henry    male  35.0      0   \n",
       "\n",
       "   Parch            Ticket     Fare Cabin Embarked  \n",
       "0      0         A/5 21171   7.2500   NaN        S  \n",
       "1      0          PC 17599  71.2833   C85        C  \n",
       "2      0  STON/O2. 3101282   7.9250   NaN        S  \n",
       "3      0            113803  53.1000  C123        S  \n",
       "4      0            373450   8.0500   NaN        S  "
      ]
     },
     "execution_count": 2,
     "metadata": {},
     "output_type": "execute_result"
    }
   ],
   "source": [
    "# reading dataset\n",
    "\n",
    "data = pd.read_csv('titanic_dataset.csv')\n",
    "data.head()"
   ]
  },
  {
   "cell_type": "code",
   "execution_count": 3,
   "id": "423c394b",
   "metadata": {},
   "outputs": [
    {
     "data": {
      "text/plain": [
       "(891, 12)"
      ]
     },
     "execution_count": 3,
     "metadata": {},
     "output_type": "execute_result"
    }
   ],
   "source": [
    "# no. of rows columns\n",
    "data.shape"
   ]
  },
  {
   "cell_type": "code",
   "execution_count": 4,
   "id": "e71b2aac",
   "metadata": {
    "scrolled": true
   },
   "outputs": [
    {
     "name": "stdout",
     "output_type": "stream",
     "text": [
      "<class 'pandas.core.frame.DataFrame'>\n",
      "RangeIndex: 891 entries, 0 to 890\n",
      "Data columns (total 12 columns):\n",
      " #   Column       Non-Null Count  Dtype  \n",
      "---  ------       --------------  -----  \n",
      " 0   PassengerId  891 non-null    int64  \n",
      " 1   Survived     891 non-null    int64  \n",
      " 2   Pclass       891 non-null    int64  \n",
      " 3   Name         891 non-null    object \n",
      " 4   Sex          891 non-null    object \n",
      " 5   Age          714 non-null    float64\n",
      " 6   SibSp        891 non-null    int64  \n",
      " 7   Parch        891 non-null    int64  \n",
      " 8   Ticket       891 non-null    object \n",
      " 9   Fare         891 non-null    float64\n",
      " 10  Cabin        204 non-null    object \n",
      " 11  Embarked     889 non-null    object \n",
      "dtypes: float64(2), int64(5), object(5)\n",
      "memory usage: 83.7+ KB\n"
     ]
    }
   ],
   "source": [
    "# checking info\n",
    "data.info()"
   ]
  },
  {
   "cell_type": "code",
   "execution_count": 5,
   "id": "346dbf99",
   "metadata": {},
   "outputs": [
    {
     "data": {
      "text/html": [
       "<div>\n",
       "<style scoped>\n",
       "    .dataframe tbody tr th:only-of-type {\n",
       "        vertical-align: middle;\n",
       "    }\n",
       "\n",
       "    .dataframe tbody tr th {\n",
       "        vertical-align: top;\n",
       "    }\n",
       "\n",
       "    .dataframe thead th {\n",
       "        text-align: right;\n",
       "    }\n",
       "</style>\n",
       "<table border=\"1\" class=\"dataframe\">\n",
       "  <thead>\n",
       "    <tr style=\"text-align: right;\">\n",
       "      <th></th>\n",
       "      <th>PassengerId</th>\n",
       "      <th>Survived</th>\n",
       "      <th>Pclass</th>\n",
       "      <th>Age</th>\n",
       "      <th>SibSp</th>\n",
       "      <th>Parch</th>\n",
       "      <th>Fare</th>\n",
       "    </tr>\n",
       "  </thead>\n",
       "  <tbody>\n",
       "    <tr>\n",
       "      <th>count</th>\n",
       "      <td>891.000000</td>\n",
       "      <td>891.000000</td>\n",
       "      <td>891.000000</td>\n",
       "      <td>714.000000</td>\n",
       "      <td>891.000000</td>\n",
       "      <td>891.000000</td>\n",
       "      <td>891.000000</td>\n",
       "    </tr>\n",
       "    <tr>\n",
       "      <th>mean</th>\n",
       "      <td>446.000000</td>\n",
       "      <td>0.383838</td>\n",
       "      <td>2.308642</td>\n",
       "      <td>29.699118</td>\n",
       "      <td>0.523008</td>\n",
       "      <td>0.381594</td>\n",
       "      <td>32.204208</td>\n",
       "    </tr>\n",
       "    <tr>\n",
       "      <th>std</th>\n",
       "      <td>257.353842</td>\n",
       "      <td>0.486592</td>\n",
       "      <td>0.836071</td>\n",
       "      <td>14.526497</td>\n",
       "      <td>1.102743</td>\n",
       "      <td>0.806057</td>\n",
       "      <td>49.693429</td>\n",
       "    </tr>\n",
       "    <tr>\n",
       "      <th>min</th>\n",
       "      <td>1.000000</td>\n",
       "      <td>0.000000</td>\n",
       "      <td>1.000000</td>\n",
       "      <td>0.420000</td>\n",
       "      <td>0.000000</td>\n",
       "      <td>0.000000</td>\n",
       "      <td>0.000000</td>\n",
       "    </tr>\n",
       "    <tr>\n",
       "      <th>25%</th>\n",
       "      <td>223.500000</td>\n",
       "      <td>0.000000</td>\n",
       "      <td>2.000000</td>\n",
       "      <td>20.125000</td>\n",
       "      <td>0.000000</td>\n",
       "      <td>0.000000</td>\n",
       "      <td>7.910400</td>\n",
       "    </tr>\n",
       "    <tr>\n",
       "      <th>50%</th>\n",
       "      <td>446.000000</td>\n",
       "      <td>0.000000</td>\n",
       "      <td>3.000000</td>\n",
       "      <td>28.000000</td>\n",
       "      <td>0.000000</td>\n",
       "      <td>0.000000</td>\n",
       "      <td>14.454200</td>\n",
       "    </tr>\n",
       "    <tr>\n",
       "      <th>75%</th>\n",
       "      <td>668.500000</td>\n",
       "      <td>1.000000</td>\n",
       "      <td>3.000000</td>\n",
       "      <td>38.000000</td>\n",
       "      <td>1.000000</td>\n",
       "      <td>0.000000</td>\n",
       "      <td>31.000000</td>\n",
       "    </tr>\n",
       "    <tr>\n",
       "      <th>max</th>\n",
       "      <td>891.000000</td>\n",
       "      <td>1.000000</td>\n",
       "      <td>3.000000</td>\n",
       "      <td>80.000000</td>\n",
       "      <td>8.000000</td>\n",
       "      <td>6.000000</td>\n",
       "      <td>512.329200</td>\n",
       "    </tr>\n",
       "  </tbody>\n",
       "</table>\n",
       "</div>"
      ],
      "text/plain": [
       "       PassengerId    Survived      Pclass         Age       SibSp  \\\n",
       "count   891.000000  891.000000  891.000000  714.000000  891.000000   \n",
       "mean    446.000000    0.383838    2.308642   29.699118    0.523008   \n",
       "std     257.353842    0.486592    0.836071   14.526497    1.102743   \n",
       "min       1.000000    0.000000    1.000000    0.420000    0.000000   \n",
       "25%     223.500000    0.000000    2.000000   20.125000    0.000000   \n",
       "50%     446.000000    0.000000    3.000000   28.000000    0.000000   \n",
       "75%     668.500000    1.000000    3.000000   38.000000    1.000000   \n",
       "max     891.000000    1.000000    3.000000   80.000000    8.000000   \n",
       "\n",
       "            Parch        Fare  \n",
       "count  891.000000  891.000000  \n",
       "mean     0.381594   32.204208  \n",
       "std      0.806057   49.693429  \n",
       "min      0.000000    0.000000  \n",
       "25%      0.000000    7.910400  \n",
       "50%      0.000000   14.454200  \n",
       "75%      0.000000   31.000000  \n",
       "max      6.000000  512.329200  "
      ]
     },
     "execution_count": 5,
     "metadata": {},
     "output_type": "execute_result"
    }
   ],
   "source": [
    "# checking statistics\n",
    "data.describe()"
   ]
  },
  {
   "cell_type": "markdown",
   "id": "c16bcc04",
   "metadata": {},
   "source": [
    "# EDA"
   ]
  },
  {
   "cell_type": "code",
   "execution_count": 6,
   "id": "3657047d",
   "metadata": {},
   "outputs": [
    {
     "data": {
      "image/png": "[encoded data removed]",
      "text/plain": [
       "<Figure size 720x720 with 6 Axes>"
      ]
     },
     "metadata": {
      "needs_background": "light"
     },
     "output_type": "display_data"
    }
   ],
   "source": [
    "# checking distribution \n",
    "\n",
    "numfea = data.drop(['PassengerId'], axis=1).select_dtypes(exclude='object')\n",
    "numfea.hist(figsize=(10,10))\n",
    "plt.suptitle('Distribution of Features')\n",
    "plt.show()"
   ]
  },
  {
   "cell_type": "code",
   "execution_count": 7,
   "id": "092d6a3c",
   "metadata": {},
   "outputs": [
    {
     "data": {
      "text/plain": [
       "PassengerId    0.000000\n",
       "Survived       0.478523\n",
       "Pclass        -0.630548\n",
       "Age            0.389108\n",
       "SibSp          3.695352\n",
       "Parch          2.749117\n",
       "Fare           4.787317\n",
       "dtype: float64"
      ]
     },
     "execution_count": 7,
     "metadata": {},
     "output_type": "execute_result"
    }
   ],
   "source": [
    "data.skew(numeric_only=True, skipna=True)"
   ]
  },
  {
   "cell_type": "code",
   "execution_count": 8,
   "id": "5eaa819e",
   "metadata": {},
   "outputs": [
    {
     "data": {
      "image/png": "[encoded data removed]",
      "text/plain": [
       "<Figure size 432x288 with 1 Axes>"
      ]
     },
     "metadata": {
      "needs_background": "light"
     },
     "output_type": "display_data"
    }
   ],
   "source": [
    "# distributuion of Target column\n",
    "\n",
    "plt.figure(figsize=(6,4))\n",
    "sns.countplot(x=data['Survived'])\n",
    "plt.show()"
   ]
  },
  {
   "cell_type": "code",
   "execution_count": 9,
   "id": "ae63a67d",
   "metadata": {},
   "outputs": [
    {
     "data": {
      "text/plain": [
       "0    549\n",
       "1    342\n",
       "Name: Survived, dtype: int64"
      ]
     },
     "execution_count": 9,
     "metadata": {},
     "output_type": "execute_result"
    }
   ],
   "source": [
    "#value_count of survived\n",
    "\n",
    "data['Survived'].value_counts()"
   ]
  },
  {
   "cell_type": "code",
   "execution_count": 10,
   "id": "6c585399",
   "metadata": {},
   "outputs": [
    {
     "data": {
      "text/plain": [
       "0    0.616162\n",
       "1    0.383838\n",
       "Name: Survived, dtype: float64"
      ]
     },
     "execution_count": 10,
     "metadata": {},
     "output_type": "execute_result"
    }
   ],
   "source": [
    "#percentage of Survived\n",
    "\n",
    "data['Survived'].value_counts(normalize=True)"
   ]
  },
  {
   "cell_type": "markdown",
   "id": "21655f0b",
   "metadata": {},
   "source": [
    "The dataset is slightly unbalanced"
   ]
  },
  {
   "cell_type": "code",
   "execution_count": 11,
   "id": "8c7f22ec",
   "metadata": {},
   "outputs": [
    {
     "data": {
      "text/plain": [
       "Index(['PassengerId', 'Survived', 'Pclass', 'Name', 'Sex', 'Age', 'SibSp',\n",
       "       'Parch', 'Ticket', 'Fare', 'Cabin', 'Embarked'],\n",
       "      dtype='object')"
      ]
     },
     "execution_count": 11,
     "metadata": {},
     "output_type": "execute_result"
    }
   ],
   "source": [
    "data.columns"
   ]
  },
  {
   "cell_type": "code",
   "execution_count": 12,
   "id": "be6b741c",
   "metadata": {},
   "outputs": [
    {
     "data": {
      "image/png": "[encoded data removed]",
      "text/plain": [
       "<Figure size 432x288 with 1 Axes>"
      ]
     },
     "metadata": {
      "needs_background": "light"
     },
     "output_type": "display_data"
    },
    {
     "data": {
      "image/png": "[encoded data removed]",
      "text/plain": [
       "<Figure size 432x288 with 1 Axes>"
      ]
     },
     "metadata": {
      "needs_background": "light"
     },
     "output_type": "display_data"
    },
    {
     "data": {
      "image/png": "[encoded data removed]",
      "text/plain": [
       "<Figure size 432x288 with 1 Axes>"
      ]
     },
     "metadata": {
      "needs_background": "light"
     },
     "output_type": "display_data"
    },
    {
     "data": {
      "image/png": "[encoded data removed]",
      "text/plain": [
       "<Figure size 432x288 with 1 Axes>"
      ]
     },
     "metadata": {
      "needs_background": "light"
     },
     "output_type": "display_data"
    },
    {
     "data": {
      "image/png": "[encoded data removed]",
      "text/plain": [
       "<Figure size 432x288 with 1 Axes>"
      ]
     },
     "metadata": {
      "needs_background": "light"
     },
     "output_type": "display_data"
    }
   ],
   "source": [
    "# effect of different features on survival status\n",
    "fea = ['Pclass', 'Sex', 'SibSp', 'Parch', 'Embarked']\n",
    "for column in fea:\n",
    "    ct = pd.crosstab(data[column], data['Survived'], normalize='index')\n",
    "    ct.plot(kind='bar', stacked=True, figsize=(6,4))\n",
    "    plt.title('Effect of {} on Survival Status'.format(column))\n",
    "    plt.legend(loc='upper left', bbox_to_anchor=(1, 1))\n",
    "    plt.xticks(rotation=0)\n",
    "    plt.show()"
   ]
  },
  {
   "cell_type": "markdown",
   "id": "ab4d25fa",
   "metadata": {},
   "source": [
    "▪️ Most of the passengers are of 3rd/lower ticket class and only few of them survived while passengers with 1st ticket class survived more.\n",
    "\n",
    "▪️ Though the passengers where mostly male, survival rate is more for females.\n",
    "\n",
    "▪️ Most of the passengers travel without siblings. Survival chance decreases when number of siblings increases.\n",
    "\n",
    "▪️ Most of the passengers travelled alone. Chances of survival increases when they have family with them.\n",
    "\n",
    "▪️ Most of the passengers where boarded from Southampton, while the survival rate was higher for passengers boarded from Cherbourg"
   ]
  },
  {
   "cell_type": "code",
   "execution_count": 13,
   "id": "b19ee08a",
   "metadata": {},
   "outputs": [
    {
     "data": {
      "image/png": "[encoded data removed]",
      "text/plain": [
       "<Figure size 1800x576 with 1 Axes>"
      ]
     },
     "metadata": {
      "needs_background": "light"
     },
     "output_type": "display_data"
    }
   ],
   "source": [
    "# Effect of Age on survival status\n",
    "ct = pd.crosstab(data['Age'], data['Survived'], normalize='index')\n",
    "ct.plot(kind='bar', stacked=True, figsize=(25,8), color=['LightGreen', 'LightBlue'])\n",
    "plt.title('Effect of Age on Survival Status')\n",
    "plt.show()"
   ]
  },
  {
   "cell_type": "markdown",
   "id": "cb2410b0",
   "metadata": {},
   "source": [
    "## Preprocessing"
   ]
  },
  {
   "cell_type": "code",
   "execution_count": 14,
   "id": "192991ad",
   "metadata": {},
   "outputs": [
    {
     "data": {
      "text/plain": [
       "PassengerId      0\n",
       "Survived         0\n",
       "Pclass           0\n",
       "Name             0\n",
       "Sex              0\n",
       "Age            177\n",
       "SibSp            0\n",
       "Parch            0\n",
       "Ticket           0\n",
       "Fare             0\n",
       "Cabin          687\n",
       "Embarked         2\n",
       "dtype: int64"
      ]
     },
     "execution_count": 14,
     "metadata": {},
     "output_type": "execute_result"
    }
   ],
   "source": [
    "# checking for null values\n",
    "\n",
    "data.isnull().sum()"
   ]
  },
  {
   "cell_type": "code",
   "execution_count": 15,
   "id": "e3f0a8f4",
   "metadata": {},
   "outputs": [
    {
     "name": "stdout",
     "output_type": "stream",
     "text": [
      "Pecentage of null values in Cabin column:  77.10437710437711\n"
     ]
    }
   ],
   "source": [
    "print('Pecentage of null values in Cabin column: ',687/len(data.Cabin)*100)"
   ]
  },
  {
   "cell_type": "markdown",
   "id": "599725b3",
   "metadata": {},
   "source": [
    "There are 177 null values in 'Age' column, 687 null values in 'Cabin' column and 2 in 'Embarked' column. We will handle null values in Age and Embarked column and drop Cabin column as 77% of data is missing."
   ]
  },
  {
   "cell_type": "code",
   "execution_count": 16,
   "id": "bf1b582d",
   "metadata": {},
   "outputs": [],
   "source": [
    "# handling null values\n",
    "data['Age'] = data['Age'].fillna(data['Age'].median()) #  as age column is right skewed we are handling with median\n",
    "data['Embarked'] = data['Embarked'].fillna(data['Embarked'].mode()[0]) #handling nulls in Embarked with most frequent value"
   ]
  },
  {
   "cell_type": "code",
   "execution_count": 17,
   "id": "9201306e",
   "metadata": {},
   "outputs": [],
   "source": [
    "# droping cabin column\n",
    "data.drop(['Cabin'], axis=1, inplace=True)"
   ]
  },
  {
   "cell_type": "code",
   "execution_count": 18,
   "id": "b3822ce8",
   "metadata": {},
   "outputs": [
    {
     "data": {
      "text/plain": [
       "0"
      ]
     },
     "execution_count": 18,
     "metadata": {},
     "output_type": "execute_result"
    }
   ],
   "source": [
    "data.isna().sum().sum()"
   ]
  },
  {
   "cell_type": "markdown",
   "id": "0d8bee84",
   "metadata": {},
   "source": [
    "All null values in our dataset have been handled"
   ]
  },
  {
   "cell_type": "code",
   "execution_count": 19,
   "id": "45f67cb0",
   "metadata": {},
   "outputs": [],
   "source": [
    "# droping 'PassengerId' as it have no use\n",
    "data.drop(['PassengerId'], axis=1, inplace=True)"
   ]
  },
  {
   "cell_type": "code",
   "execution_count": 20,
   "id": "763d0b90",
   "metadata": {},
   "outputs": [
    {
     "data": {
      "image/png": "[encoded data removed]",
      "text/plain": [
       "<Figure size 576x144 with 1 Axes>"
      ]
     },
     "metadata": {
      "needs_background": "light"
     },
     "output_type": "display_data"
    },
    {
     "data": {
      "image/png": "[encoded data removed]",
      "text/plain": [
       "<Figure size 576x144 with 1 Axes>"
      ]
     },
     "metadata": {
      "needs_background": "light"
     },
     "output_type": "display_data"
    },
    {
     "data": {
      "image/png": "[encoded data removed]",
      "text/plain": [
       "<Figure size 576x144 with 1 Axes>"
      ]
     },
     "metadata": {
      "needs_background": "light"
     },
     "output_type": "display_data"
    },
    {
     "data": {
      "image/png": "[encoded data removed]",
      "text/plain": [
       "<Figure size 576x144 with 1 Axes>"
      ]
     },
     "metadata": {
      "needs_background": "light"
     },
     "output_type": "display_data"
    }
   ],
   "source": [
    "# checking for outliers\n",
    "numfea = ['Age', 'SibSp', 'Parch', 'Fare']\n",
    "for column in numfea:\n",
    "    plt.figure(figsize=(8,2))\n",
    "    sns.boxplot(x=column, data=data)\n",
    "    plt.title('Box plot of {}'.format(column))\n",
    "    plt.tight_layout()\n",
    "    plt.show()"
   ]
  },
  {
   "cell_type": "code",
   "execution_count": 21,
   "id": "055cd2f2",
   "metadata": {},
   "outputs": [
    {
     "name": "stdout",
     "output_type": "stream",
     "text": [
      "Age : (2.5, 54.5)\n",
      "SibSp : (-1.5, 2.5)\n",
      "Parch : (0.0, 0.0)\n",
      "Fare : (-26.724, 65.6344)\n"
     ]
    }
   ],
   "source": [
    "# outlier detection\n",
    "# defining IQR\n",
    "def outlier_limit(dataframe, column, q1=0.25, q3=0.75):\n",
    "    Q1=dataframe[column].quantile(q1)\n",
    "    Q3=dataframe[column].quantile(q3)\n",
    "    IQR = Q3-Q1\n",
    "    upper_limit=round(Q3+(1.5 * IQR), 4)\n",
    "    lower_limit=round(Q1-(1.5 * IQR), 4)\n",
    "    return lower_limit, upper_limit\n",
    "for column in numfea:\n",
    "    print(column,':', outlier_limit(data, column))"
   ]
  },
  {
   "cell_type": "markdown",
   "id": "ecf10034",
   "metadata": {},
   "source": [
    "From the boxplot we can see unusual spread in the boxplot of 'Fare'. \n",
    "We will further evaluate outliers in 'Fare' column with by replacing q1 value as 0.10 and q3 value as 0.90."
   ]
  },
  {
   "cell_type": "code",
   "execution_count": 22,
   "id": "48372f31",
   "metadata": {},
   "outputs": [
    {
     "data": {
      "text/plain": [
       "(-98.0624, 183.5707)"
      ]
     },
     "execution_count": 22,
     "metadata": {},
     "output_type": "execute_result"
    }
   ],
   "source": [
    "outlier_limit(data, 'Fare', q1=0.10, q3=0.90)"
   ]
  },
  {
   "cell_type": "code",
   "execution_count": 23,
   "id": "dbc97edd",
   "metadata": {},
   "outputs": [],
   "source": [
    "# flooring (at 10th percentile) for the lower values and capping (at 90th percentile) for the higher values in 'fare' column\n",
    "data['Fare']=np.where(data['Fare']>data['Fare'].quantile(0.90),data['Fare'].quantile(0.90),data['Fare'])\n",
    "data['Fare']=np.where(data['Fare']<data['Fare'].quantile(0.10),data['Fare'].quantile(0.10),data['Fare'])"
   ]
  },
  {
   "cell_type": "markdown",
   "id": "a16bd612",
   "metadata": {},
   "source": [
    "The Maximum age value is found to be 80 which is not an impossible situation. So this value may not be considered an outlier for the relevant dataset.\n",
    "Using this point of view we have to rethink about outlier evaluation.\n",
    "We will examine whether the variables together form an outlier by using Local Outlier Factor (LOF)."
   ]
  },
  {
   "cell_type": "code",
   "execution_count": 24,
   "id": "de3bb5a1",
   "metadata": {},
   "outputs": [
    {
     "data": {
      "text/plain": [
       "array([-8.50062666e+09, -7.76767182e+09, -5.00000000e+09, -7.92000001e+08,\n",
       "       -1.22254419e+02, -1.04489519e+02, -6.11275678e+01, -4.52988552e+01,\n",
       "       -4.30726276e+01, -4.28215621e+01, -4.28015677e+01, -4.02090421e+01,\n",
       "       -3.93959681e+01, -3.61566519e+01, -6.95454519e+00, -5.01448278e+00,\n",
       "       -4.64011571e+00, -4.60697698e+00, -4.60697698e+00, -4.60697698e+00,\n",
       "       -4.55227522e+00, -3.77911551e+00, -3.52598787e+00, -3.42621143e+00,\n",
       "       -3.17677031e+00, -3.17677031e+00, -3.17677031e+00, -3.17677031e+00,\n",
       "       -3.17677031e+00, -3.17677031e+00])"
      ]
     },
     "execution_count": 24,
     "metadata": {},
     "output_type": "execute_result"
    }
   ],
   "source": [
    "from sklearn.neighbors import LocalOutlierFactor\n",
    "lof = LocalOutlierFactor(n_neighbors=20) #taking n_neighbors=20 appears to work well in general\n",
    "lof.fit_predict(data[numfea])\n",
    "lof_scores = lof.negative_outlier_factor_\n",
    "np.sort(lof_scores)[0:30]"
   ]
  },
  {
   "cell_type": "code",
   "execution_count": 25,
   "id": "bdd2fa95",
   "metadata": {},
   "outputs": [
    {
     "data": {
      "image/png": "[encoded data removed]",
      "text/plain": [
       "<Figure size 432x288 with 1 Axes>"
      ]
     },
     "metadata": {
      "needs_background": "light"
     },
     "output_type": "display_data"
    }
   ],
   "source": [
    "lof_scores1 = pd.DataFrame(np.sort(lof_scores))\n",
    "lof_scores1.plot(stacked=True, xlim=[0,20], style='.-')\n",
    "plt.grid()\n",
    "plt.show()"
   ]
  },
  {
   "cell_type": "code",
   "execution_count": 26,
   "id": "161fe4c2",
   "metadata": {},
   "outputs": [
    {
     "data": {
      "text/html": [
       "<div>\n",
       "<style scoped>\n",
       "    .dataframe tbody tr th:only-of-type {\n",
       "        vertical-align: middle;\n",
       "    }\n",
       "\n",
       "    .dataframe tbody tr th {\n",
       "        vertical-align: top;\n",
       "    }\n",
       "\n",
       "    .dataframe thead th {\n",
       "        text-align: right;\n",
       "    }\n",
       "</style>\n",
       "<table border=\"1\" class=\"dataframe\">\n",
       "  <thead>\n",
       "    <tr style=\"text-align: right;\">\n",
       "      <th></th>\n",
       "      <th>Survived</th>\n",
       "      <th>Pclass</th>\n",
       "      <th>Name</th>\n",
       "      <th>Sex</th>\n",
       "      <th>Age</th>\n",
       "      <th>SibSp</th>\n",
       "      <th>Parch</th>\n",
       "      <th>Ticket</th>\n",
       "      <th>Fare</th>\n",
       "      <th>Embarked</th>\n",
       "    </tr>\n",
       "  </thead>\n",
       "  <tbody>\n",
       "    <tr>\n",
       "      <th>57</th>\n",
       "      <td>0</td>\n",
       "      <td>3</td>\n",
       "      <td>Novel, Mr. Mansouer</td>\n",
       "      <td>male</td>\n",
       "      <td>28.5</td>\n",
       "      <td>0</td>\n",
       "      <td>0</td>\n",
       "      <td>2697</td>\n",
       "      <td>7.5500</td>\n",
       "      <td>C</td>\n",
       "    </tr>\n",
       "    <tr>\n",
       "      <th>477</th>\n",
       "      <td>0</td>\n",
       "      <td>3</td>\n",
       "      <td>Braund, Mr. Lewis Richard</td>\n",
       "      <td>male</td>\n",
       "      <td>29.0</td>\n",
       "      <td>1</td>\n",
       "      <td>0</td>\n",
       "      <td>3460</td>\n",
       "      <td>7.5500</td>\n",
       "      <td>S</td>\n",
       "    </tr>\n",
       "    <tr>\n",
       "      <th>502</th>\n",
       "      <td>0</td>\n",
       "      <td>3</td>\n",
       "      <td>O'Sullivan, Miss. Bridget Mary</td>\n",
       "      <td>female</td>\n",
       "      <td>28.0</td>\n",
       "      <td>0</td>\n",
       "      <td>0</td>\n",
       "      <td>330909</td>\n",
       "      <td>7.6292</td>\n",
       "      <td>Q</td>\n",
       "    </tr>\n",
       "    <tr>\n",
       "      <th>804</th>\n",
       "      <td>1</td>\n",
       "      <td>3</td>\n",
       "      <td>Hedman, Mr. Oskar Arvid</td>\n",
       "      <td>male</td>\n",
       "      <td>27.0</td>\n",
       "      <td>0</td>\n",
       "      <td>0</td>\n",
       "      <td>347089</td>\n",
       "      <td>7.5500</td>\n",
       "      <td>S</td>\n",
       "    </tr>\n",
       "  </tbody>\n",
       "</table>\n",
       "</div>"
      ],
      "text/plain": [
       "     Survived  Pclass                            Name     Sex   Age  SibSp  \\\n",
       "57          0       3             Novel, Mr. Mansouer    male  28.5      0   \n",
       "477         0       3       Braund, Mr. Lewis Richard    male  29.0      1   \n",
       "502         0       3  O'Sullivan, Miss. Bridget Mary  female  28.0      0   \n",
       "804         1       3         Hedman, Mr. Oskar Arvid    male  27.0      0   \n",
       "\n",
       "     Parch  Ticket    Fare Embarked  \n",
       "57       0    2697  7.5500        C  \n",
       "477      0    3460  7.5500        S  \n",
       "502      0  330909  7.6292        Q  \n",
       "804      0  347089  7.5500        S  "
      ]
     },
     "execution_count": 26,
     "metadata": {},
     "output_type": "execute_result"
    }
   ],
   "source": [
    "th = np.sort(lof_scores)[4] #We choose the threshold value according to lof scores \n",
    "data[lof_scores < th]"
   ]
  },
  {
   "cell_type": "code",
   "execution_count": 27,
   "id": "8b8617e5",
   "metadata": {},
   "outputs": [
    {
     "data": {
      "text/plain": [
       "(887, 10)"
      ]
     },
     "execution_count": 27,
     "metadata": {},
     "output_type": "execute_result"
    }
   ],
   "source": [
    "# We delete those that are higher than the threshold\n",
    "data.drop(data[lof_scores<th].index, inplace=True)\n",
    "data.shape"
   ]
  },
  {
   "cell_type": "markdown",
   "id": "a8e8df80",
   "metadata": {},
   "source": [
    "## Feature Enginering"
   ]
  },
  {
   "cell_type": "code",
   "execution_count": 28,
   "id": "44ec294c",
   "metadata": {},
   "outputs": [],
   "source": [
    "# Creating a new column Family Size as combination of SibSp and Parch\n",
    "data['Fam_siz'] = data['SibSp']+data['Parch']+1"
   ]
  },
  {
   "cell_type": "code",
   "execution_count": 29,
   "id": "f46fa14c",
   "metadata": {},
   "outputs": [
    {
     "data": {
      "text/plain": [
       "count    887.000000\n",
       "mean      29.367159\n",
       "std       13.048693\n",
       "min        0.420000\n",
       "25%       22.000000\n",
       "50%       28.000000\n",
       "75%       35.000000\n",
       "max       80.000000\n",
       "Name: Age, dtype: float64"
      ]
     },
     "execution_count": 29,
     "metadata": {},
     "output_type": "execute_result"
    }
   ],
   "source": [
    "# creating bins\n",
    "data['Age'].describe()"
   ]
  },
  {
   "cell_type": "code",
   "execution_count": 30,
   "id": "2ae7945f",
   "metadata": {},
   "outputs": [],
   "source": [
    "data['Age_bin'] = pd.cut(data['Age'], bins=[0,3,18,56,80], labels=['infants','child', 'adult','senior_citizen'])"
   ]
  },
  {
   "cell_type": "code",
   "execution_count": 31,
   "id": "d5e8b46d",
   "metadata": {},
   "outputs": [
    {
     "data": {
      "text/plain": [
       "count    887.000000\n",
       "mean      25.730534\n",
       "std       23.404417\n",
       "min        7.550000\n",
       "25%        7.925000\n",
       "50%       14.458300\n",
       "75%       31.137500\n",
       "max       77.958300\n",
       "Name: Fare, dtype: float64"
      ]
     },
     "execution_count": 31,
     "metadata": {},
     "output_type": "execute_result"
    }
   ],
   "source": [
    "data['Fare'].describe()"
   ]
  },
  {
   "cell_type": "code",
   "execution_count": 32,
   "id": "a1a49248",
   "metadata": {},
   "outputs": [],
   "source": [
    "data['Fare_bin'] = pd.cut(data['Fare'], bins=[0,8,14.5,31,78], labels=['low','lower_middle','upper_middle','high'])"
   ]
  },
  {
   "cell_type": "code",
   "execution_count": 33,
   "id": "dd59e526",
   "metadata": {},
   "outputs": [
    {
     "data": {
      "text/plain": [
       "Index(['Survived', 'Pclass', 'Name', 'Sex', 'Age', 'SibSp', 'Parch', 'Ticket',\n",
       "       'Fare', 'Embarked', 'Fam_siz', 'Age_bin', 'Fare_bin'],\n",
       "      dtype='object')"
      ]
     },
     "execution_count": 33,
     "metadata": {},
     "output_type": "execute_result"
    }
   ],
   "source": [
    "data.columns"
   ]
  },
  {
   "cell_type": "code",
   "execution_count": 34,
   "id": "74c52cdc",
   "metadata": {},
   "outputs": [],
   "source": [
    "#droping columns\n",
    "data.drop(['Name','Age','SibSp','Parch','Ticket','Fare'], axis=1, inplace=True)"
   ]
  },
  {
   "cell_type": "code",
   "execution_count": 35,
   "id": "ed4d0ae3",
   "metadata": {},
   "outputs": [
    {
     "data": {
      "text/plain": [
       "Survived    2\n",
       "Pclass      3\n",
       "Sex         2\n",
       "Embarked    3\n",
       "Fam_siz     9\n",
       "Age_bin     4\n",
       "Fare_bin    4\n",
       "dtype: int64"
      ]
     },
     "execution_count": 35,
     "metadata": {},
     "output_type": "execute_result"
    }
   ],
   "source": [
    "data.nunique()"
   ]
  },
  {
   "cell_type": "code",
   "execution_count": 36,
   "id": "8069863a",
   "metadata": {},
   "outputs": [
    {
     "data": {
      "text/plain": [
       "Survived       int64\n",
       "Pclass         int64\n",
       "Sex           object\n",
       "Embarked      object\n",
       "Fam_siz        int64\n",
       "Age_bin     category\n",
       "Fare_bin    category\n",
       "dtype: object"
      ]
     },
     "execution_count": 36,
     "metadata": {},
     "output_type": "execute_result"
    }
   ],
   "source": [
    "data.dtypes"
   ]
  },
  {
   "cell_type": "markdown",
   "id": "6bc85be9",
   "metadata": {},
   "source": [
    "## Encoding"
   ]
  },
  {
   "cell_type": "code",
   "execution_count": 37,
   "id": "de0f1596",
   "metadata": {},
   "outputs": [
    {
     "name": "stdout",
     "output_type": "stream",
     "text": [
      "{'female': 0, 'male': 1}\n",
      "{'C': 0, 'Q': 1, 'S': 2}\n",
      "{'adult': 0, 'child': 1, 'infants': 2, 'senior_citizen': 3}\n",
      "{'high': 0, 'low': 1, 'lower_middle': 2, 'upper_middle': 3}\n"
     ]
    }
   ],
   "source": [
    "from sklearn import preprocessing \n",
    "le = preprocessing.LabelEncoder()\n",
    "for column in ['Sex','Embarked','Age_bin','Fare_bin']:\n",
    "    data[[column]]=data[[column]].apply(le.fit_transform)\n",
    "    le_map = dict(zip(le.classes_, le.transform(le.classes_)))\n",
    "    print(le_map)"
   ]
  },
  {
   "cell_type": "markdown",
   "id": "3c1ce646",
   "metadata": {},
   "source": [
    "#### Checking correlation"
   ]
  },
  {
   "cell_type": "code",
   "execution_count": 38,
   "id": "1a790c02",
   "metadata": {},
   "outputs": [
    {
     "data": {
      "image/png": "[encoded data removed]",
      "text/plain": [
       "<Figure size 720x576 with 2 Axes>"
      ]
     },
     "metadata": {
      "needs_background": "light"
     },
     "output_type": "display_data"
    }
   ],
   "source": [
    "plt.subplots(figsize=(10,8))\n",
    "sns.heatmap(data=data.corr(), vmin=-0.6, vmax=0.6, annot=True, linewidth=0.2, cmap='YlGnBu')\n",
    "plt.show()"
   ]
  },
  {
   "cell_type": "markdown",
   "id": "5bed8c1e",
   "metadata": {},
   "source": [
    "Most of the features are NOT highly correlated to each other."
   ]
  },
  {
   "cell_type": "code",
   "execution_count": 39,
   "id": "910059e1",
   "metadata": {},
   "outputs": [
    {
     "data": {
      "text/html": [
       "<div>\n",
       "<style scoped>\n",
       "    .dataframe tbody tr th:only-of-type {\n",
       "        vertical-align: middle;\n",
       "    }\n",
       "\n",
       "    .dataframe tbody tr th {\n",
       "        vertical-align: top;\n",
       "    }\n",
       "\n",
       "    .dataframe thead th {\n",
       "        text-align: right;\n",
       "    }\n",
       "</style>\n",
       "<table border=\"1\" class=\"dataframe\">\n",
       "  <thead>\n",
       "    <tr style=\"text-align: right;\">\n",
       "      <th></th>\n",
       "      <th>Survived</th>\n",
       "      <th>Pclass</th>\n",
       "      <th>Sex</th>\n",
       "      <th>Embarked</th>\n",
       "      <th>Fam_siz</th>\n",
       "      <th>Age_bin</th>\n",
       "      <th>Fare_bin</th>\n",
       "    </tr>\n",
       "  </thead>\n",
       "  <tbody>\n",
       "    <tr>\n",
       "      <th>0</th>\n",
       "      <td>0</td>\n",
       "      <td>3</td>\n",
       "      <td>1</td>\n",
       "      <td>2</td>\n",
       "      <td>2</td>\n",
       "      <td>0</td>\n",
       "      <td>1</td>\n",
       "    </tr>\n",
       "    <tr>\n",
       "      <th>1</th>\n",
       "      <td>1</td>\n",
       "      <td>1</td>\n",
       "      <td>0</td>\n",
       "      <td>0</td>\n",
       "      <td>2</td>\n",
       "      <td>0</td>\n",
       "      <td>0</td>\n",
       "    </tr>\n",
       "    <tr>\n",
       "      <th>2</th>\n",
       "      <td>1</td>\n",
       "      <td>3</td>\n",
       "      <td>0</td>\n",
       "      <td>2</td>\n",
       "      <td>1</td>\n",
       "      <td>0</td>\n",
       "      <td>1</td>\n",
       "    </tr>\n",
       "    <tr>\n",
       "      <th>3</th>\n",
       "      <td>1</td>\n",
       "      <td>1</td>\n",
       "      <td>0</td>\n",
       "      <td>2</td>\n",
       "      <td>2</td>\n",
       "      <td>0</td>\n",
       "      <td>0</td>\n",
       "    </tr>\n",
       "    <tr>\n",
       "      <th>4</th>\n",
       "      <td>0</td>\n",
       "      <td>3</td>\n",
       "      <td>1</td>\n",
       "      <td>2</td>\n",
       "      <td>1</td>\n",
       "      <td>0</td>\n",
       "      <td>2</td>\n",
       "    </tr>\n",
       "  </tbody>\n",
       "</table>\n",
       "</div>"
      ],
      "text/plain": [
       "   Survived  Pclass  Sex  Embarked  Fam_siz  Age_bin  Fare_bin\n",
       "0         0       3    1         2        2        0         1\n",
       "1         1       1    0         0        2        0         0\n",
       "2         1       3    0         2        1        0         1\n",
       "3         1       1    0         2        2        0         0\n",
       "4         0       3    1         2        1        0         2"
      ]
     },
     "execution_count": 39,
     "metadata": {},
     "output_type": "execute_result"
    }
   ],
   "source": [
    "data.head()"
   ]
  },
  {
   "cell_type": "markdown",
   "id": "59915670",
   "metadata": {},
   "source": [
    "## Dataset Preparation"
   ]
  },
  {
   "cell_type": "code",
   "execution_count": 40,
   "id": "edcc9f6e",
   "metadata": {},
   "outputs": [
    {
     "name": "stdout",
     "output_type": "stream",
     "text": [
      "shape of X:  (887, 6)\n",
      "shape of y:  (887,)\n"
     ]
    }
   ],
   "source": [
    "# splitting data\n",
    "y = data['Survived']\n",
    "X = data.drop(['Survived'], axis=1)\n",
    "\n",
    "print('shape of X: ',X.shape)\n",
    "print('shape of y: ',y.shape)"
   ]
  },
  {
   "cell_type": "code",
   "execution_count": 41,
   "id": "a2a9a89f",
   "metadata": {},
   "outputs": [
    {
     "data": {
      "text/html": [
       "<div>\n",
       "<style scoped>\n",
       "    .dataframe tbody tr th:only-of-type {\n",
       "        vertical-align: middle;\n",
       "    }\n",
       "\n",
       "    .dataframe tbody tr th {\n",
       "        vertical-align: top;\n",
       "    }\n",
       "\n",
       "    .dataframe thead th {\n",
       "        text-align: right;\n",
       "    }\n",
       "</style>\n",
       "<table border=\"1\" class=\"dataframe\">\n",
       "  <thead>\n",
       "    <tr style=\"text-align: right;\">\n",
       "      <th></th>\n",
       "      <th>Pclass</th>\n",
       "      <th>Sex</th>\n",
       "      <th>Embarked</th>\n",
       "      <th>Fam_siz</th>\n",
       "      <th>Age_bin</th>\n",
       "      <th>Fare_bin</th>\n",
       "    </tr>\n",
       "  </thead>\n",
       "  <tbody>\n",
       "    <tr>\n",
       "      <th>count</th>\n",
       "      <td>887.000000</td>\n",
       "      <td>887.000000</td>\n",
       "      <td>887.000000</td>\n",
       "      <td>887.000000</td>\n",
       "      <td>887.000000</td>\n",
       "      <td>887.000000</td>\n",
       "    </tr>\n",
       "    <tr>\n",
       "      <th>mean</th>\n",
       "      <td>2.305524</td>\n",
       "      <td>0.647125</td>\n",
       "      <td>1.537768</td>\n",
       "      <td>1.907554</td>\n",
       "      <td>0.308906</td>\n",
       "      <td>1.471251</td>\n",
       "    </tr>\n",
       "    <tr>\n",
       "      <th>std</th>\n",
       "      <td>0.836662</td>\n",
       "      <td>0.478134</td>\n",
       "      <td>0.791094</td>\n",
       "      <td>1.616234</td>\n",
       "      <td>0.720045</td>\n",
       "      <td>1.108665</td>\n",
       "    </tr>\n",
       "    <tr>\n",
       "      <th>min</th>\n",
       "      <td>1.000000</td>\n",
       "      <td>0.000000</td>\n",
       "      <td>0.000000</td>\n",
       "      <td>1.000000</td>\n",
       "      <td>0.000000</td>\n",
       "      <td>0.000000</td>\n",
       "    </tr>\n",
       "    <tr>\n",
       "      <th>25%</th>\n",
       "      <td>2.000000</td>\n",
       "      <td>0.000000</td>\n",
       "      <td>1.000000</td>\n",
       "      <td>1.000000</td>\n",
       "      <td>0.000000</td>\n",
       "      <td>0.500000</td>\n",
       "    </tr>\n",
       "    <tr>\n",
       "      <th>50%</th>\n",
       "      <td>3.000000</td>\n",
       "      <td>1.000000</td>\n",
       "      <td>2.000000</td>\n",
       "      <td>1.000000</td>\n",
       "      <td>0.000000</td>\n",
       "      <td>1.000000</td>\n",
       "    </tr>\n",
       "    <tr>\n",
       "      <th>75%</th>\n",
       "      <td>3.000000</td>\n",
       "      <td>1.000000</td>\n",
       "      <td>2.000000</td>\n",
       "      <td>2.000000</td>\n",
       "      <td>0.000000</td>\n",
       "      <td>2.000000</td>\n",
       "    </tr>\n",
       "    <tr>\n",
       "      <th>max</th>\n",
       "      <td>3.000000</td>\n",
       "      <td>1.000000</td>\n",
       "      <td>2.000000</td>\n",
       "      <td>11.000000</td>\n",
       "      <td>3.000000</td>\n",
       "      <td>3.000000</td>\n",
       "    </tr>\n",
       "  </tbody>\n",
       "</table>\n",
       "</div>"
      ],
      "text/plain": [
       "           Pclass         Sex    Embarked     Fam_siz     Age_bin    Fare_bin\n",
       "count  887.000000  887.000000  887.000000  887.000000  887.000000  887.000000\n",
       "mean     2.305524    0.647125    1.537768    1.907554    0.308906    1.471251\n",
       "std      0.836662    0.478134    0.791094    1.616234    0.720045    1.108665\n",
       "min      1.000000    0.000000    0.000000    1.000000    0.000000    0.000000\n",
       "25%      2.000000    0.000000    1.000000    1.000000    0.000000    0.500000\n",
       "50%      3.000000    1.000000    2.000000    1.000000    0.000000    1.000000\n",
       "75%      3.000000    1.000000    2.000000    2.000000    0.000000    2.000000\n",
       "max      3.000000    1.000000    2.000000   11.000000    3.000000    3.000000"
      ]
     },
     "execution_count": 41,
     "metadata": {},
     "output_type": "execute_result"
    }
   ],
   "source": [
    "X.describe()"
   ]
  },
  {
   "cell_type": "markdown",
   "id": "641bda66",
   "metadata": {},
   "source": [
    "As there's no much variation in the data, we proceed without scaling"
   ]
  },
  {
   "cell_type": "code",
   "execution_count": 42,
   "id": "1d54eb98",
   "metadata": {},
   "outputs": [
    {
     "name": "stdout",
     "output_type": "stream",
     "text": [
      "Shape of X_train:  (665, 6)\n",
      "Shape of X_test:  (222, 6)\n",
      "Shape of y_train:  (665,)\n",
      "Shape of y_test:  (222,)\n"
     ]
    }
   ],
   "source": [
    "## Splitting data into train and test\n",
    "from sklearn.model_selection import train_test_split\n",
    "X_train,X_test,y_train,y_test=train_test_split(X, y, random_state=42, test_size=0.25)\n",
    "\n",
    "print('Shape of X_train: ',X_train.shape)\n",
    "print('Shape of X_test: ',X_test.shape)\n",
    "print('Shape of y_train: ',y_train.shape)\n",
    "print('Shape of y_test: ',y_test.shape)"
   ]
  },
  {
   "cell_type": "markdown",
   "id": "7e4b75b2",
   "metadata": {},
   "source": [
    "## Model Bilding - Gaussian NaiveBayes Classifier"
   ]
  },
  {
   "cell_type": "code",
   "execution_count": 43,
   "id": "e53e3868",
   "metadata": {},
   "outputs": [],
   "source": [
    "#importing necessary libraries\n",
    "from sklearn.naive_bayes import GaussianNB\n",
    "from sklearn.metrics import classification_report, confusion_matrix"
   ]
  },
  {
   "cell_type": "code",
   "execution_count": 44,
   "id": "bf3add66",
   "metadata": {},
   "outputs": [
    {
     "name": "stdout",
     "output_type": "stream",
     "text": [
      "Classification Model: GaussianNB\n",
      "Confusion Matrix: \n",
      " [[108  26]\n",
      " [ 24  64]]\n",
      "Classification Report: \n",
      "               precision    recall  f1-score   support\n",
      "\n",
      "           0       0.82      0.81      0.81       134\n",
      "           1       0.71      0.73      0.72        88\n",
      "\n",
      "    accuracy                           0.77       222\n",
      "   macro avg       0.76      0.77      0.77       222\n",
      "weighted avg       0.78      0.77      0.78       222\n",
      "\n"
     ]
    }
   ],
   "source": [
    "clf = GaussianNB()\n",
    "clf.fit(X_train, y_train)\n",
    "\n",
    "y_pred = clf.predict(X_test)\n",
    "\n",
    "print('Classification Model: {}'.format(clf.__class__.__name__))\n",
    "print('Confusion Matrix: \\n',confusion_matrix(y_test, y_pred))\n",
    "print('Classification Report: \\n',classification_report(y_test, y_pred))"
   ]
  },
  {
   "cell_type": "markdown",
   "id": "d3fe5e2d",
   "metadata": {},
   "source": [
    "We have an accuracy of 77%.\n",
    "\n",
    "50 datapoints have been misclassified"
   ]
  },
  {
   "cell_type": "markdown",
   "id": "e6bdcf35",
   "metadata": {},
   "source": [
    "## Hyperparameter Tuning"
   ]
  },
  {
   "cell_type": "code",
   "execution_count": 45,
   "id": "93b1d7c0",
   "metadata": {},
   "outputs": [
    {
     "data": {
      "text/plain": [
       "{'priors': None, 'var_smoothing': 1e-09}"
      ]
     },
     "execution_count": 45,
     "metadata": {},
     "output_type": "execute_result"
    }
   ],
   "source": [
    "# default parameters of GaussianNB\n",
    "\n",
    "GNB = GaussianNB()\n",
    "GNB.get_params(deep=True)"
   ]
  },
  {
   "cell_type": "code",
   "execution_count": 46,
   "id": "16784b04",
   "metadata": {},
   "outputs": [],
   "source": [
    "# we use RepeatedStratifiedKFold()\n",
    "#to assess the model since it repeats stratified folds n-times with a different random scheme in each iteration.\n",
    "\n",
    "from sklearn.model_selection import RepeatedStratifiedKFold\n",
    "cv_method = RepeatedStratifiedKFold(n_splits=5, n_repeats=3, random_state=999)"
   ]
  },
  {
   "cell_type": "markdown",
   "id": "18acd288",
   "metadata": {},
   "source": [
    "Gaussian Naive Bayes assumes that features follows normal distribution which is most unlikely in real world.So solve this problem we can perform \"power transformation\" on each feature to make it more or less normally distributed. By default, PowerTransformer results in features that have a 0 mean and 1 standard deviation."
   ]
  },
  {
   "cell_type": "code",
   "execution_count": 47,
   "id": "3e6d2416",
   "metadata": {},
   "outputs": [
    {
     "name": "stdout",
     "output_type": "stream",
     "text": [
      "Fitting 15 folds for each of 100 candidates, totalling 1500 fits\n",
      "Best parameters:  {'var_smoothing': 0.3511191734215131}\n",
      "Score:  0.7245259612631343\n"
     ]
    }
   ],
   "source": [
    "# Apply a power transform to make data more Gaussian-like.\n",
    "# finding best params using GridSearchCV\n",
    "\n",
    "NB_params = {'var_smoothing':np.logspace(0, -9, num=100)}\n",
    "\n",
    "from sklearn.model_selection import GridSearchCV\n",
    "gs_GNB = GridSearchCV(estimator=GNB,\n",
    "                      param_grid=NB_params,\n",
    "                      cv=cv_method,\n",
    "                      scoring='f1',\n",
    "                      n_jobs=4,\n",
    "                      verbose=3,\n",
    "                      return_train_score=True)\n",
    "\n",
    "X_train_trans = preprocessing.PowerTransformer().fit_transform(X_train)\n",
    "\n",
    "gs_GNB.fit(X_train_trans, y_train)\n",
    "\n",
    "print('Best parameters: ',gs_GNB.best_params_)\n",
    "print('Score: ',gs_GNB.best_score_)"
   ]
  },
  {
   "cell_type": "code",
   "execution_count": 48,
   "id": "96b53238",
   "metadata": {},
   "outputs": [
    {
     "name": "stdout",
     "output_type": "stream",
     "text": [
      "Classification Model: GridSearchCV\n",
      "Confusion Matrix: \n",
      " [[112  22]\n",
      " [ 30  58]]\n",
      "Classification Report: \n",
      "               precision    recall  f1-score   support\n",
      "\n",
      "           0       0.79      0.84      0.81       134\n",
      "           1       0.72      0.66      0.69        88\n",
      "\n",
      "    accuracy                           0.77       222\n",
      "   macro avg       0.76      0.75      0.75       222\n",
      "weighted avg       0.76      0.77      0.76       222\n",
      "\n"
     ]
    }
   ],
   "source": [
    "X_test_trans = preprocessing.PowerTransformer().fit_transform(X_test)\n",
    "y_hyp_pred = gs_GNB.predict(X_test_trans)\n",
    "\n",
    "print('Classification Model: {}'.format(gs_GNB.__class__.__name__))\n",
    "print('Confusion Matrix: \\n',confusion_matrix(y_test, y_hyp_pred))\n",
    "print('Classification Report: \\n',classification_report(y_test, y_hyp_pred))"
   ]
  },
  {
   "cell_type": "code",
   "execution_count": null,
   "id": "615aa30e",
   "metadata": {},
   "outputs": [],
   "source": []
  }
 ],
 "metadata": {
  "kernelspec": {
   "display_name": "Python 3 (ipykernel)",
   "language": "python",
   "name": "python3"
  },
  "language_info": {
   "codemirror_mode": {
    "name": "ipython",
    "version": 3
   },
   "file_extension": ".py",
   "mimetype": "text/x-python",
   "name": "python",
   "nbconvert_exporter": "python",
   "pygments_lexer": "ipython3",
   "version": "3.9.7"
  }
 },
 "nbformat": 4,
 "nbformat_minor": 5
}
