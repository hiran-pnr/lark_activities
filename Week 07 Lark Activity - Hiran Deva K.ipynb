{
 "cells": [
  {
   "cell_type": "code",
   "execution_count": 1,
   "id": "2ad349f4",
   "metadata": {},
   "outputs": [],
   "source": [
    "import numpy as np\n",
    "import pandas as pd\n",
    "import scipy.stats as stats"
   ]
  },
  {
   "cell_type": "code",
   "execution_count": 2,
   "id": "1b92c57b",
   "metadata": {},
   "outputs": [
    {
     "name": "stdout",
     "output_type": "stream",
     "text": [
      "<class 'pandas.core.frame.DataFrame'>\n",
      "RangeIndex: 28 entries, 0 to 27\n",
      "Data columns (total 3 columns):\n",
      " #   Column            Non-Null Count  Dtype \n",
      "---  ------            --------------  ----- \n",
      " 0   Gender            28 non-null     object\n",
      " 1   Test preparation  28 non-null     object\n",
      " 2   Total Marks       28 non-null     int64 \n",
      "dtypes: int64(1), object(2)\n",
      "memory usage: 800.0+ bytes\n"
     ]
    }
   ],
   "source": [
    "data=pd.read_csv('dataset w7.csv')\n",
    "data.info()"
   ]
  },
  {
   "cell_type": "code",
   "execution_count": 3,
   "id": "022d4854",
   "metadata": {},
   "outputs": [
    {
     "data": {
      "text/html": [
       "<div>\n",
       "<style scoped>\n",
       "    .dataframe tbody tr th:only-of-type {\n",
       "        vertical-align: middle;\n",
       "    }\n",
       "\n",
       "    .dataframe tbody tr th {\n",
       "        vertical-align: top;\n",
       "    }\n",
       "\n",
       "    .dataframe thead th {\n",
       "        text-align: right;\n",
       "    }\n",
       "</style>\n",
       "<table border=\"1\" class=\"dataframe\">\n",
       "  <thead>\n",
       "    <tr style=\"text-align: right;\">\n",
       "      <th></th>\n",
       "      <th>Gender</th>\n",
       "      <th>Test preparation</th>\n",
       "      <th>Total Marks</th>\n",
       "    </tr>\n",
       "  </thead>\n",
       "  <tbody>\n",
       "    <tr>\n",
       "      <th>0</th>\n",
       "      <td>male</td>\n",
       "      <td>none</td>\n",
       "      <td>14</td>\n",
       "    </tr>\n",
       "    <tr>\n",
       "      <th>1</th>\n",
       "      <td>female</td>\n",
       "      <td>none</td>\n",
       "      <td>28</td>\n",
       "    </tr>\n",
       "    <tr>\n",
       "      <th>2</th>\n",
       "      <td>female</td>\n",
       "      <td>none</td>\n",
       "      <td>18</td>\n",
       "    </tr>\n",
       "    <tr>\n",
       "      <th>3</th>\n",
       "      <td>female</td>\n",
       "      <td>none</td>\n",
       "      <td>48</td>\n",
       "    </tr>\n",
       "    <tr>\n",
       "      <th>4</th>\n",
       "      <td>female</td>\n",
       "      <td>none</td>\n",
       "      <td>21</td>\n",
       "    </tr>\n",
       "  </tbody>\n",
       "</table>\n",
       "</div>"
      ],
      "text/plain": [
       "   Gender Test preparation  Total Marks\n",
       "0    male             none           14\n",
       "1  female             none           28\n",
       "2  female             none           18\n",
       "3  female             none           48\n",
       "4  female             none           21"
      ]
     },
     "execution_count": 3,
     "metadata": {},
     "output_type": "execute_result"
    }
   ],
   "source": [
    "data.head()"
   ]
  },
  {
   "cell_type": "markdown",
   "id": "ff6fceeb",
   "metadata": {},
   "source": [
    "# 1. Descriptive Analytics of the given data"
   ]
  },
  {
   "cell_type": "code",
   "execution_count": 4,
   "id": "43f883a3",
   "metadata": {},
   "outputs": [
    {
     "data": {
      "text/html": [
       "<div>\n",
       "<style scoped>\n",
       "    .dataframe tbody tr th:only-of-type {\n",
       "        vertical-align: middle;\n",
       "    }\n",
       "\n",
       "    .dataframe tbody tr th {\n",
       "        vertical-align: top;\n",
       "    }\n",
       "\n",
       "    .dataframe thead th {\n",
       "        text-align: right;\n",
       "    }\n",
       "</style>\n",
       "<table border=\"1\" class=\"dataframe\">\n",
       "  <thead>\n",
       "    <tr style=\"text-align: right;\">\n",
       "      <th></th>\n",
       "      <th>Total Marks</th>\n",
       "    </tr>\n",
       "  </thead>\n",
       "  <tbody>\n",
       "    <tr>\n",
       "      <th>count</th>\n",
       "      <td>28.000000</td>\n",
       "    </tr>\n",
       "    <tr>\n",
       "      <th>mean</th>\n",
       "      <td>32.321429</td>\n",
       "    </tr>\n",
       "    <tr>\n",
       "      <th>std</th>\n",
       "      <td>12.454520</td>\n",
       "    </tr>\n",
       "    <tr>\n",
       "      <th>min</th>\n",
       "      <td>12.000000</td>\n",
       "    </tr>\n",
       "    <tr>\n",
       "      <th>25%</th>\n",
       "      <td>22.500000</td>\n",
       "    </tr>\n",
       "    <tr>\n",
       "      <th>50%</th>\n",
       "      <td>33.000000</td>\n",
       "    </tr>\n",
       "    <tr>\n",
       "      <th>75%</th>\n",
       "      <td>43.250000</td>\n",
       "    </tr>\n",
       "    <tr>\n",
       "      <th>max</th>\n",
       "      <td>50.000000</td>\n",
       "    </tr>\n",
       "  </tbody>\n",
       "</table>\n",
       "</div>"
      ],
      "text/plain": [
       "       Total Marks\n",
       "count    28.000000\n",
       "mean     32.321429\n",
       "std      12.454520\n",
       "min      12.000000\n",
       "25%      22.500000\n",
       "50%      33.000000\n",
       "75%      43.250000\n",
       "max      50.000000"
      ]
     },
     "execution_count": 4,
     "metadata": {},
     "output_type": "execute_result"
    }
   ],
   "source": [
    "data.describe()"
   ]
  },
  {
   "cell_type": "code",
   "execution_count": null,
   "id": "7a962b68",
   "metadata": {},
   "outputs": [],
   "source": []
  },
  {
   "cell_type": "markdown",
   "id": "adb3bd34",
   "metadata": {},
   "source": [
    "# 2. To check whether female and male students scored the same marks"
   ]
  },
  {
   "cell_type": "code",
   "execution_count": 5,
   "id": "ddef47b0",
   "metadata": {},
   "outputs": [],
   "source": [
    "data_male=data.loc[data['Gender']=='male']\n",
    "data_female=data.loc[data['Gender']=='female']"
   ]
  },
  {
   "cell_type": "markdown",
   "id": "48dc0389",
   "metadata": {},
   "source": [
    "### Hypothesis\n",
    "null_hypothesis: marks scored by male and female students are NOT same.\n",
    "\n",
    "alternative_hypothesis: marks scored by male and female students are same."
   ]
  },
  {
   "cell_type": "code",
   "execution_count": 6,
   "id": "f429cf9c",
   "metadata": {},
   "outputs": [
    {
     "data": {
      "text/plain": [
       "26"
      ]
     },
     "execution_count": 6,
     "metadata": {},
     "output_type": "execute_result"
    }
   ],
   "source": [
    "#degrees of freedom:\n",
    "df = (len(data_male)-1)+(len(data_female)-1)\n",
    "df"
   ]
  },
  {
   "cell_type": "markdown",
   "id": "f0b11d77",
   "metadata": {},
   "source": [
    "Level of significance = 5% = 0.05"
   ]
  },
  {
   "cell_type": "code",
   "execution_count": 7,
   "id": "b85a71d8",
   "metadata": {},
   "outputs": [
    {
     "data": {
      "text/plain": [
       "2.055529438642871"
      ]
     },
     "execution_count": 7,
     "metadata": {},
     "output_type": "execute_result"
    }
   ],
   "source": [
    "# T critical value\n",
    "t_critic = stats.t.ppf(q=1-0.05/2, df=df)\n",
    "t_critic"
   ]
  },
  {
   "cell_type": "code",
   "execution_count": 8,
   "id": "e74d8edc",
   "metadata": {},
   "outputs": [
    {
     "data": {
      "text/plain": [
       "(-0.6940885268848668, 0.4937822317960763)"
      ]
     },
     "execution_count": 8,
     "metadata": {},
     "output_type": "execute_result"
    }
   ],
   "source": [
    "# test statistics\n",
    "ttest,pval = stats.ttest_ind(data_male['Total Marks'], data_female['Total Marks'])\n",
    "ttest,pval"
   ]
  },
  {
   "cell_type": "code",
   "execution_count": 9,
   "id": "2dcbddfd",
   "metadata": {
    "scrolled": true
   },
   "outputs": [
    {
     "name": "stdout",
     "output_type": "stream",
     "text": [
      "we are accepting null hypothesis\n"
     ]
    }
   ],
   "source": [
    "if (abs(ttest)>t_critic)&(pval<0.05):\n",
    "    print('We are rejecting null hypothesis')\n",
    "else:\n",
    "    print('we are accepting null hypothesis')"
   ]
  },
  {
   "cell_type": "markdown",
   "id": "b1aaec55",
   "metadata": {},
   "source": [
    "### Inference:\n",
    "The marks scored by male and female are NOT same"
   ]
  },
  {
   "cell_type": "code",
   "execution_count": null,
   "id": "54e3aaf6",
   "metadata": {},
   "outputs": [],
   "source": []
  },
  {
   "cell_type": "markdown",
   "id": "8f843a6c",
   "metadata": {},
   "source": [
    "# 3. Whether test preparation helps the students?"
   ]
  },
  {
   "cell_type": "code",
   "execution_count": 10,
   "id": "5de495f0",
   "metadata": {},
   "outputs": [],
   "source": [
    "data_tp=data.loc[data['Test preparation']=='completed']\n",
    "data_ntp=data.loc[data['Test preparation']=='none']"
   ]
  },
  {
   "cell_type": "markdown",
   "id": "9455ae99",
   "metadata": {},
   "source": [
    "### Hypothesis\n",
    "null_hypothesis: Test preparation does not help students. Mean score of students who completed and not completed test preparation are equal\n",
    "\n",
    "alternative_hypothesis: Test preparation do help students. Mean score of students who completed and not completed test preparation are not equal"
   ]
  },
  {
   "cell_type": "code",
   "execution_count": 11,
   "id": "22627ce4",
   "metadata": {},
   "outputs": [
    {
     "data": {
      "text/plain": [
       "26"
      ]
     },
     "execution_count": 11,
     "metadata": {},
     "output_type": "execute_result"
    }
   ],
   "source": [
    "#degrees of freedom:\n",
    "df = (len(data_tp)-1)+(len(data_ntp)-1)\n",
    "df"
   ]
  },
  {
   "cell_type": "markdown",
   "id": "89351c0a",
   "metadata": {},
   "source": [
    "Level of significance = 5% = 0.05"
   ]
  },
  {
   "cell_type": "code",
   "execution_count": 12,
   "id": "5e549c5e",
   "metadata": {},
   "outputs": [
    {
     "data": {
      "text/plain": [
       "2.055529438642871"
      ]
     },
     "execution_count": 12,
     "metadata": {},
     "output_type": "execute_result"
    }
   ],
   "source": [
    "# T critical value\n",
    "t_critic = stats.t.ppf(q=1-0.05/2, df=df)\n",
    "t_critic"
   ]
  },
  {
   "cell_type": "code",
   "execution_count": 13,
   "id": "b0dedaad",
   "metadata": {},
   "outputs": [
    {
     "data": {
      "text/plain": [
       "(3.6143637527769217, 0.0012671292457320106)"
      ]
     },
     "execution_count": 13,
     "metadata": {},
     "output_type": "execute_result"
    }
   ],
   "source": [
    "# test statistics\n",
    "ttest1,pval1 = stats.ttest_ind(data_tp['Total Marks'], data_ntp['Total Marks'])\n",
    "ttest1,pval1"
   ]
  },
  {
   "cell_type": "code",
   "execution_count": 14,
   "id": "354134ce",
   "metadata": {},
   "outputs": [
    {
     "name": "stdout",
     "output_type": "stream",
     "text": [
      "We are rejecting null hypothesis\n"
     ]
    }
   ],
   "source": [
    "if (abs(ttest1)>t_critic)&(pval1<0.05):\n",
    "    print('We are rejecting null hypothesis')\n",
    "else:\n",
    "    print('we are accepting null hypothesis')"
   ]
  },
  {
   "cell_type": "markdown",
   "id": "8f9e91df",
   "metadata": {},
   "source": [
    "### Inference :\n",
    "Test preparation do help students"
   ]
  }
 ],
 "metadata": {
  "kernelspec": {
   "display_name": "Python 3 (ipykernel)",
   "language": "python",
   "name": "python3"
  },
  "language_info": {
   "codemirror_mode": {
    "name": "ipython",
    "version": 3
   },
   "file_extension": ".py",
   "mimetype": "text/x-python",
   "name": "python",
   "nbconvert_exporter": "python",
   "pygments_lexer": "ipython3",
   "version": "3.9.7"
  }
 },
 "nbformat": 4,
 "nbformat_minor": 5
}
