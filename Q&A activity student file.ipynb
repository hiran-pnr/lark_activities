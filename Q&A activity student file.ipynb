{
 "cells": [
  {
   "cell_type": "markdown",
   "metadata": {},
   "source": [
    "## 1. Complete the following code to find the area of an equilateral triangle. Output should be as displayed"
   ]
  },
  {
   "cell_type": "code",
   "execution_count": 1,
   "metadata": {},
   "outputs": [
    {
     "name": "stdout",
     "output_type": "stream",
     "text": [
      "Enter the side of the equilateral triangle: 5\n",
      "10.825317547305483\n"
     ]
    }
   ],
   "source": [
    "import math\n",
    "side = float(input(\"Enter the side of the equilateral triangle: \"))\n",
    "area = ((math.sqrt(3))/4)*pow(side,2)\n",
    "print(area)"
   ]
  },
  {
   "cell_type": "markdown",
   "metadata": {},
   "source": [
    "## 2. Write a program to count the number of each characters in a string"
   ]
  },
  {
   "cell_type": "code",
   "execution_count": 2,
   "metadata": {},
   "outputs": [
    {
     "name": "stdout",
     "output_type": "stream",
     "text": [
      "enter a word :malayalam\n",
      "count of  m = 2\n",
      "count of  a = 4\n",
      "count of  l = 2\n",
      "count of  y = 1\n"
     ]
    }
   ],
   "source": [
    "word=input('enter a word :')\n",
    "l1=list(word)\n",
    "l2=[]\n",
    "for i in l1:\n",
    "    if i not in l2:\n",
    "        l2.append(i)\n",
    "        print('count of ',i,'=',l1.count(i))"
   ]
  },
  {
   "cell_type": "markdown",
   "metadata": {},
   "source": [
    "## 3. Write a program to find the area and perimeter of a rectangle using functions"
   ]
  },
  {
   "cell_type": "code",
   "execution_count": 4,
   "metadata": {},
   "outputs": [
    {
     "name": "stdout",
     "output_type": "stream",
     "text": [
      "enter the length of the rectangle : 4\n",
      "enter the width of the rectangle : 2\n",
      "area =  8\n",
      "perimeter =  12\n"
     ]
    }
   ],
   "source": [
    "def rectangle(l,b):\n",
    "    print('area = ',l*b)\n",
    "    print('perimeter = ',2*(l+b))\n",
    "l=int(input('enter the length of the rectangle : '))\n",
    "b=int(input('enter the width of the rectangle : '))\n",
    "rectangle(l,b)"
   ]
  },
  {
   "cell_type": "markdown",
   "metadata": {},
   "source": [
    "## 4. Write a program to print the fibonacci series till a specified number"
   ]
  },
  {
   "cell_type": "code",
   "execution_count": 5,
   "metadata": {},
   "outputs": [
    {
     "name": "stdout",
     "output_type": "stream",
     "text": [
      "enter the limit :10\n",
      "0\n",
      "1\n",
      "1\n",
      "2\n",
      "3\n",
      "5\n",
      "8\n",
      "13\n",
      "21\n",
      "34\n"
     ]
    }
   ],
   "source": [
    "limit=int(input('enter the limit :'))\n",
    "i=0\n",
    "s1,s2=0,1\n",
    "while i < limit:\n",
    "    print(s1)\n",
    "    s=s1+s2\n",
    "    s1=s2\n",
    "    s2=s\n",
    "    i+=1"
   ]
  },
  {
   "cell_type": "markdown",
   "metadata": {},
   "source": [
    "## 5. Complete the following code to find the minimum of 3 number using conditional statements. Output should be as displayed"
   ]
  },
  {
   "cell_type": "code",
   "execution_count": 7,
   "metadata": {},
   "outputs": [
    {
     "name": "stdout",
     "output_type": "stream",
     "text": [
      "Enter three numbers followed by  : 11 12 10\n",
      "First number : 11\n",
      "Second number : 12\n",
      "Third number : 10\n",
      "10  is smallest\n"
     ]
    }
   ],
   "source": [
    "a,b,c = input(\"Enter three numbers followed by  : \").split()\n",
    "\n",
    "print(\"First number :\",a)\n",
    "print(\"Second number :\",b)\n",
    "print(\"Third number :\",c)\n",
    "if a==b==c:\n",
    "    print(\"Entered numbers are equal!!!\")\n",
    "elif a<b and a<c:\n",
    "    print(a,\" is smallest\")\n",
    "elif b<a and b<c:\n",
    "    print(b,\" is smallest\")\n",
    "else:\n",
    "    print(c,\" is smallest\")"
   ]
  },
  {
   "cell_type": "markdown",
   "metadata": {},
   "source": [
    "## 6. Write a program to print star pyramind. The number of rows should be taken as input from the user"
   ]
  },
  {
   "cell_type": "code",
   "execution_count": 8,
   "metadata": {},
   "outputs": [
    {
     "name": "stdout",
     "output_type": "stream",
     "text": [
      "enter the number of rows :7\n",
      "      * \n",
      "     * * \n",
      "    * * * \n",
      "   * * * * \n",
      "  * * * * * \n",
      " * * * * * * \n",
      "* * * * * * * \n"
     ]
    }
   ],
   "source": [
    "r=int(input('enter the number of rows :'))\n",
    "s=r-1\n",
    "for i in range(0,r):\n",
    "    for j in range(0,s):\n",
    "        print(' ',end='')\n",
    "    s-=1\n",
    "    for j in range(0,i+1):\n",
    "        print('* ',end='')\n",
    "    print(\"\")"
   ]
  },
  {
   "cell_type": "markdown",
   "metadata": {},
   "source": [
    "## 7. Complete the following code to convert hour into seconds. Output should be as displayed"
   ]
  },
  {
   "cell_type": "code",
   "execution_count": 9,
   "metadata": {},
   "outputs": [
    {
     "name": "stdout",
     "output_type": "stream",
     "text": [
      "Enter time in hours :24\n",
      "24.0  Hour is equal to 86400.0  Seconds\n"
     ]
    }
   ],
   "source": [
    "def to_seconds(t):\n",
    "    t=t*60*60\n",
    "    return t\n",
    "time_in_hours = float(input('Enter time in hours :'))\n",
    "print(time_in_hours ,\" Hour is equal to\" ,to_seconds(time_in_hours) ,\" Seconds\")"
   ]
  },
  {
   "cell_type": "markdown",
   "metadata": {},
   "source": [
    "## 8. Write a program to print multiplication table as below"
   ]
  },
  {
   "cell_type": "code",
   "execution_count": 10,
   "metadata": {},
   "outputs": [
    {
     "name": "stdout",
     "output_type": "stream",
     "text": [
      "Enter a number to find the multiplication table :11\n",
      "1 x 11 = 11\n",
      "2 x 11 = 22\n",
      "3 x 11 = 33\n",
      "4 x 11 = 44\n",
      "5 x 11 = 55\n",
      "6 x 11 = 66\n",
      "7 x 11 = 77\n",
      "8 x 11 = 88\n",
      "9 x 11 = 99\n",
      "10 x 11 = 110\n"
     ]
    }
   ],
   "source": [
    "def mt(n):\n",
    "    for i in range(1,11):\n",
    "        print(i,'x',n,'=',i*n)\n",
    "m=int(input('Enter a number to find the multiplication table :'))\n",
    "mt(m)"
   ]
  },
  {
   "cell_type": "markdown",
   "metadata": {},
   "source": [
    "## 9. Write a program to take your 5 favorite food as list and print each as 'I like Biriyani'"
   ]
  },
  {
   "cell_type": "code",
   "execution_count": 11,
   "metadata": {},
   "outputs": [
    {
     "name": "stdout",
     "output_type": "stream",
     "text": [
      "Enter your favorite food :Biriyani\n",
      "Enter your favorite food :Porotta\n",
      "Enter your favorite food :Burger\n",
      "Enter your favorite food :Sandwitch\n",
      "Enter your favorite food :Chappathi\n",
      "I like Biriyani\n",
      "I like Porotta\n",
      "I like Burger\n",
      "I like Sandwitch\n",
      "I like Chappathi\n"
     ]
    }
   ],
   "source": [
    "li=[]\n",
    "for i in range(0,5):\n",
    "    f=input('Enter your favorite food :')\n",
    "    li.append(f)\n",
    "for k in range(0,5):\n",
    "    print('I like',li[k])"
   ]
  },
  {
   "cell_type": "code",
   "execution_count": null,
   "metadata": {},
   "outputs": [],
   "source": []
  }
 ],
 "metadata": {
  "kernelspec": {
   "display_name": "Python 3 (ipykernel)",
   "language": "python",
   "name": "python3"
  },
  "language_info": {
   "codemirror_mode": {
    "name": "ipython",
    "version": 3
   },
   "file_extension": ".py",
   "mimetype": "text/x-python",
   "name": "python",
   "nbconvert_exporter": "python",
   "pygments_lexer": "ipython3",
   "version": "3.9.7"
  }
 },
 "nbformat": 4,
 "nbformat_minor": 4
}
